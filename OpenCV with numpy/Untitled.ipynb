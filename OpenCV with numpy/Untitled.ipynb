{
 "cells": [
  {
   "cell_type": "code",
   "execution_count": 1,
   "metadata": {},
   "outputs": [
    {
     "name": "stdout",
     "output_type": "stream",
     "text": [
      "Collecting opencv-python\n",
      "  Downloading https://files.pythonhosted.org/packages/0b/26/9af7fe21073cbef2f450a13ca18978732125fbb65cc56d173a7e82a9e111/opencv_python-4.2.0.32-cp36-cp36m-win_amd64.whl (33.0MB)\n",
      "Requirement already satisfied: numpy>=1.11.3 in c:\\users\\syedatahiraanwar\\anaconda3\\lib\\site-packages (from opencv-python)\n",
      "Installing collected packages: opencv-python\n",
      "Successfully installed opencv-python-4.2.0.32\n"
     ]
    },
    {
     "name": "stderr",
     "output_type": "stream",
     "text": [
      "You are using pip version 9.0.1, however version 20.0.2 is available.\n",
      "You should consider upgrading via the 'python -m pip install --upgrade pip' command.\n"
     ]
    }
   ],
   "source": [
    "!pip install opencv-python\n",
    "import cv2"
   ]
  },
  {
   "cell_type": "code",
   "execution_count": 13,
   "metadata": {},
   "outputs": [
    {
     "name": "stdout",
     "output_type": "stream",
     "text": [
      "[[[52 52 52]\n",
      "  [52 52 52]\n",
      "  [52 52 52]\n",
      "  ...\n",
      "  [73 73 73]\n",
      "  [73 73 73]\n",
      "  [73 73 73]]\n",
      "\n",
      " [[52 52 52]\n",
      "  [52 52 52]\n",
      "  [52 52 52]\n",
      "  ...\n",
      "  [73 73 73]\n",
      "  [73 73 73]\n",
      "  [73 73 73]]\n",
      "\n",
      " [[52 52 52]\n",
      "  [52 52 52]\n",
      "  [52 52 52]\n",
      "  ...\n",
      "  [73 73 73]\n",
      "  [73 73 73]\n",
      "  [73 73 73]]\n",
      "\n",
      " ...\n",
      "\n",
      " [[87 87 87]\n",
      "  [87 87 87]\n",
      "  [87 87 87]\n",
      "  ...\n",
      "  [94 94 94]\n",
      "  [94 94 94]\n",
      "  [94 94 94]]\n",
      "\n",
      " [[87 87 87]\n",
      "  [87 87 87]\n",
      "  [87 87 87]\n",
      "  ...\n",
      "  [94 94 94]\n",
      "  [94 94 94]\n",
      "  [94 94 94]]\n",
      "\n",
      " [[87 87 87]\n",
      "  [87 87 87]\n",
      "  [87 87 87]\n",
      "  ...\n",
      "  [94 94 94]\n",
      "  [94 94 94]\n",
      "  [94 94 94]]]\n"
     ]
    }
   ],
   "source": [
    "img=cv2.imread(\"sample.png\")\n",
    "print(img)"
   ]
  },
  {
   "cell_type": "code",
   "execution_count": 14,
   "metadata": {},
   "outputs": [
    {
     "data": {
      "text/plain": [
       "(256, 256, 3)"
      ]
     },
     "execution_count": 14,
     "metadata": {},
     "output_type": "execute_result"
    }
   ],
   "source": [
    "img.shape"
   ]
  },
  {
   "cell_type": "code",
   "execution_count": 15,
   "metadata": {},
   "outputs": [
    {
     "data": {
      "text/plain": [
       "array([[[52, 52, 52],\n",
       "        [52, 52, 52],\n",
       "        [52, 52, 52],\n",
       "        [52, 52, 52]],\n",
       "\n",
       "       [[52, 52, 52],\n",
       "        [52, 52, 52],\n",
       "        [52, 52, 52],\n",
       "        [52, 52, 52]],\n",
       "\n",
       "       [[52, 52, 52],\n",
       "        [52, 52, 52],\n",
       "        [52, 52, 52],\n",
       "        [52, 52, 52]],\n",
       "\n",
       "       [[52, 52, 52],\n",
       "        [52, 52, 52],\n",
       "        [52, 52, 52],\n",
       "        [52, 52, 52]],\n",
       "\n",
       "       [[52, 52, 52],\n",
       "        [52, 52, 52],\n",
       "        [52, 52, 52],\n",
       "        [52, 52, 52]]], dtype=uint8)"
      ]
     },
     "execution_count": 15,
     "metadata": {},
     "output_type": "execute_result"
    }
   ],
   "source": [
    "img[5:10,2:6]"
   ]
  },
  {
   "cell_type": "code",
   "execution_count": 44,
   "metadata": {},
   "outputs": [
    {
     "name": "stdout",
     "output_type": "stream",
     "text": [
      "40\n"
     ]
    }
   ],
   "source": [
    "def mysum(a, b):\n",
    "    return (a + b)\n",
    "\n",
    "print(mysum(10,30))"
   ]
  },
  {
   "cell_type": "code",
   "execution_count": null,
   "metadata": {
    "collapsed": true
   },
   "outputs": [],
   "source": []
  }
 ],
 "metadata": {
  "kernelspec": {
   "display_name": "Python 3",
   "language": "python",
   "name": "python3"
  },
  "language_info": {
   "codemirror_mode": {
    "name": "ipython",
    "version": 3
   },
   "file_extension": ".py",
   "mimetype": "text/x-python",
   "name": "python",
   "nbconvert_exporter": "python",
   "pygments_lexer": "ipython3",
   "version": "3.6.3"
  }
 },
 "nbformat": 4,
 "nbformat_minor": 2
}
